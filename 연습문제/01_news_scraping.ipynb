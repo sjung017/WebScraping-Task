{
 "cells": [
  {
   "cell_type": "code",
   "execution_count": null,
   "id": "acd17155",
   "metadata": {},
   "outputs": [],
   "source": [
    "import requests\n",
    "from bs4 import BeautifulSoup\n",
    "\n",
    "# 다음 경제 뉴스 URL\n",
    "url = 'https://news.daum.net/economy'\n",
    "\n",
    "# 페이지 요청 및 인코딩 설정\n",
    "response = requests.get(url)\n",
    "response.encoding = 'utf-8'\n",
    "\n",
    "# BeautifulSoup으로 HTML 파싱\n",
    "soup = BeautifulSoup(response.text, 'html.parser')\n",
    "\n",
    "# 뉴스 리스트 찾기\n",
    "li_tags = soup.select('ul.list_newsheadline2 li')\n",
    "\n",
    "# 결과 출력\n",
    "for li_tag in li_tags:\n",
    "    a_tag = li_tag.find('a')\n",
    "    link = a_tag['href']\n",
    "\n",
    "    strong_tag = li_tag.select_one('div.cont_thumb strong.tit_txt')\n",
    "    title = strong_tag.text.strip()\n",
    "\n",
    "    print(f'제목: {title}')\n",
    "    print(f'링크: {link}')\n",
    "    print('-' * 50)"
   ]
  }
 ],
 "metadata": {
  "language_info": {
   "name": "python"
  }
 },
 "nbformat": 4,
 "nbformat_minor": 5
}
